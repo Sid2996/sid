{
  "nbformat": 4,
  "nbformat_minor": 0,
  "metadata": {
    "colab": {
      "name": "numpy27july2020.ipynb",
      "provenance": [],
      "collapsed_sections": [],
      "include_colab_link": true
    },
    "kernelspec": {
      "name": "python3",
      "display_name": "Python 3"
    }
  },
  "cells": [
    {
      "cell_type": "markdown",
      "metadata": {
        "id": "view-in-github",
        "colab_type": "text"
      },
      "source": [
        "<a href=\"https://colab.research.google.com/github/Sid2996/sid/blob/python/numpy27july2020.ipynb\" target=\"_parent\"><img src=\"https://colab.research.google.com/assets/colab-badge.svg\" alt=\"Open In Colab\"/></a>"
      ]
    },
    {
      "cell_type": "code",
      "metadata": {
        "id": "XrOddalOoQsj",
        "colab_type": "code",
        "colab": {}
      },
      "source": [
        "import numpy as np"
      ],
      "execution_count": null,
      "outputs": []
    },
    {
      "cell_type": "code",
      "metadata": {
        "id": "fbyNNZYjocxW",
        "colab_type": "code",
        "colab": {
          "base_uri": "https://localhost:8080/",
          "height": 36
        },
        "outputId": "0c49278c-6a00-48f4-a28b-b1f2319a4976"
      },
      "source": [
        "a=np.array([11,22,33,44,55,66,77])\n",
        "print(a.shape,a.ndim,a.size)"
      ],
      "execution_count": null,
      "outputs": [
        {
          "output_type": "stream",
          "text": [
            "(7,) 1 7\n"
          ],
          "name": "stdout"
        }
      ]
    },
    {
      "cell_type": "code",
      "metadata": {
        "id": "s9oEkeRbq27m",
        "colab_type": "code",
        "colab": {
          "base_uri": "https://localhost:8080/",
          "height": 36
        },
        "outputId": "e2cdc82e-f339-4302-b68b-19f8660b5e61"
      },
      "source": [
        "a=np.array([[11,22,33],[44,55,66,77]])\n",
        "print(a.shape,a.ndim,a.size)"
      ],
      "execution_count": null,
      "outputs": [
        {
          "output_type": "stream",
          "text": [
            "(2,) 1 2\n"
          ],
          "name": "stdout"
        }
      ]
    },
    {
      "cell_type": "code",
      "metadata": {
        "id": "QypZbqsoriGD",
        "colab_type": "code",
        "colab": {
          "base_uri": "https://localhost:8080/",
          "height": 36
        },
        "outputId": "2dd291da-8e3f-4a15-b425-ddb4c94a4b4b"
      },
      "source": [
        "a=np.array([[[11,22,33],[44,55,66,77]]])\n",
        "print(a.shape,a.ndim,a.size)"
      ],
      "execution_count": null,
      "outputs": [
        {
          "output_type": "stream",
          "text": [
            "(1, 2) 2 2\n"
          ],
          "name": "stdout"
        }
      ]
    },
    {
      "cell_type": "code",
      "metadata": {
        "id": "9ue-SMHKsaxl",
        "colab_type": "code",
        "colab": {
          "base_uri": "https://localhost:8080/",
          "height": 110
        },
        "outputId": "eebda9fc-dafc-46ee-fbb3-c83105566943"
      },
      "source": [
        "a=np.array([[10,20,30,33],[40,45,50,55],[70,80,90,100]])\n",
        "print(a.shape,a.ndim,a.size)#shape only gives when square else only rows\n",
        "#dim only gives what shape registered\n",
        "#size rows registered by shape  \n",
        "for i in a:\n",
        "  print(\"data--->\",i)\n",
        "\n",
        "a[2][2]"
      ],
      "execution_count": null,
      "outputs": [
        {
          "output_type": "stream",
          "text": [
            "(3, 4) 2 12\n",
            "data---> [10 20 30 33]\n",
            "data---> [40 45 50 55]\n",
            "data---> [ 70  80  90 100]\n"
          ],
          "name": "stdout"
        },
        {
          "output_type": "execute_result",
          "data": {
            "text/plain": [
              "90"
            ]
          },
          "metadata": {
            "tags": []
          },
          "execution_count": 27
        }
      ]
    },
    {
      "cell_type": "code",
      "metadata": {
        "id": "QFp7-dFMwPLe",
        "colab_type": "code",
        "colab": {
          "base_uri": "https://localhost:8080/",
          "height": 54
        },
        "outputId": "e39beb78-9fed-4487-9526-35bfd7d51bdf"
      },
      "source": [
        "print(a[0:2,0:2])"
      ],
      "execution_count": null,
      "outputs": [
        {
          "output_type": "stream",
          "text": [
            "[[10 20]\n",
            " [40 45]]\n"
          ],
          "name": "stdout"
        }
      ]
    },
    {
      "cell_type": "code",
      "metadata": {
        "id": "yBcEiI0Px6sd",
        "colab_type": "code",
        "colab": {
          "base_uri": "https://localhost:8080/",
          "height": 129
        },
        "outputId": "6f5fcf49-ac73-4b45-eb44-17044ad202cc"
      },
      "source": [
        "a=np.array([[10,20,30,40],[50,60,70,80],[90,100,110,120]])\n",
        "print(a)\n",
        "a[0:3,1:3]\n"
      ],
      "execution_count": null,
      "outputs": [
        {
          "output_type": "stream",
          "text": [
            "[[ 10  20  30  40]\n",
            " [ 50  60  70  80]\n",
            " [ 90 100 110 120]]\n"
          ],
          "name": "stdout"
        },
        {
          "output_type": "execute_result",
          "data": {
            "text/plain": [
              "array([[ 20,  30],\n",
              "       [ 60,  70],\n",
              "       [100, 110]])"
            ]
          },
          "metadata": {
            "tags": []
          },
          "execution_count": 30
        }
      ]
    },
    {
      "cell_type": "code",
      "metadata": {
        "id": "Aao8rqONyug-",
        "colab_type": "code",
        "colab": {
          "base_uri": "https://localhost:8080/",
          "height": 240
        },
        "outputId": "703613f1-5eb3-488f-fcee-47790a71bd8b"
      },
      "source": [
        "a=np.array([[10,20,30,40],[50,60,70,80],[90,100,110,120]])\n",
        "print(a)\n",
        "print(\"TRanspose:\\n\",a.T)#transpose\n",
        "print(\"in to 2:\\n\",a*2)#scalar multiplication\n",
        "\n"
      ],
      "execution_count": null,
      "outputs": [
        {
          "output_type": "stream",
          "text": [
            "[[ 10  20  30  40]\n",
            " [ 50  60  70  80]\n",
            " [ 90 100 110 120]]\n",
            "TRanspose:\n",
            " [[ 10  50  90]\n",
            " [ 20  60 100]\n",
            " [ 30  70 110]\n",
            " [ 40  80 120]]\n",
            "in to 2:\n",
            " [[ 20  40  60  80]\n",
            " [100 120 140 160]\n",
            " [180 200 220 240]]\n"
          ],
          "name": "stdout"
        }
      ]
    },
    {
      "cell_type": "code",
      "metadata": {
        "id": "QPDfYylV1Jok",
        "colab_type": "code",
        "colab": {
          "base_uri": "https://localhost:8080/",
          "height": 36
        },
        "outputId": "0b3fa24c-05ed-48f4-be21-c381f6b29518"
      },
      "source": [
        "a=np.arange(10,20)\n",
        "print(a)"
      ],
      "execution_count": null,
      "outputs": [
        {
          "output_type": "stream",
          "text": [
            "[10 11 12 13 14 15 16 17 18 19]\n"
          ],
          "name": "stdout"
        }
      ]
    },
    {
      "cell_type": "code",
      "metadata": {
        "id": "1KL2D4mT0wZO",
        "colab_type": "code",
        "colab": {
          "base_uri": "https://localhost:8080/",
          "height": 36
        },
        "outputId": "b52d0b05-b678-44ca-8dd3-f636be30ba8d"
      },
      "source": [
        "a=np.arange(10,110,10)\n",
        "print(a)"
      ],
      "execution_count": null,
      "outputs": [
        {
          "output_type": "stream",
          "text": [
            "[ 10  20  30  40  50  60  70  80  90 100]\n"
          ],
          "name": "stdout"
        }
      ]
    },
    {
      "cell_type": "code",
      "metadata": {
        "id": "P-qyK9n92Oqg",
        "colab_type": "code",
        "colab": {
          "base_uri": "https://localhost:8080/",
          "height": 36
        },
        "outputId": "937ecdfc-0dc8-497a-cca8-ea85011a5c16"
      },
      "source": [
        "a=np.arange(100,0,-10)\n",
        "print(a)"
      ],
      "execution_count": null,
      "outputs": [
        {
          "output_type": "stream",
          "text": [
            "[100  90  80  70  60  50  40  30  20  10]\n"
          ],
          "name": "stdout"
        }
      ]
    },
    {
      "cell_type": "code",
      "metadata": {
        "id": "x68Ic0Uh2msa",
        "colab_type": "code",
        "colab": {
          "base_uri": "https://localhost:8080/",
          "height": 91
        },
        "outputId": "6132d824-6830-4f6c-ad5b-df06a8c2e368"
      },
      "source": [
        "a=np.arange(1,13)\n",
        "print(a)\n",
        "a2=a.reshape(3,4)\n",
        "print(a2)"
      ],
      "execution_count": null,
      "outputs": [
        {
          "output_type": "stream",
          "text": [
            "[ 1  2  3  4  5  6  7  8  9 10 11 12]\n",
            "[[ 1  2  3  4]\n",
            " [ 5  6  7  8]\n",
            " [ 9 10 11 12]]\n"
          ],
          "name": "stdout"
        }
      ]
    },
    {
      "cell_type": "code",
      "metadata": {
        "id": "023ReAg8yskj",
        "colab_type": "code",
        "colab": {
          "base_uri": "https://localhost:8080/",
          "height": 91
        },
        "outputId": "230da85d-b9e2-4a8c-fba9-8e46fdb37fd0"
      },
      "source": [
        "a=np.arange(0,17,2)\n",
        "print(a)\n",
        "a2=a.reshape(3,3)\n",
        "print(a2)\n"
      ],
      "execution_count": null,
      "outputs": [
        {
          "output_type": "stream",
          "text": [
            "[ 0  2  4  6  8 10 12 14 16]\n",
            "[[ 0  2  4]\n",
            " [ 6  8 10]\n",
            " [12 14 16]]\n"
          ],
          "name": "stdout"
        }
      ]
    },
    {
      "cell_type": "code",
      "metadata": {
        "id": "H659c9Yc5Sib",
        "colab_type": "code",
        "colab": {
          "base_uri": "https://localhost:8080/",
          "height": 147
        },
        "outputId": "d3093bcb-f878-4f05-ba90-0b2ff8c4349f"
      },
      "source": [
        "a2=np.arange(10,170,10)\n",
        "print(a2)\n",
        "a3=a2.reshape(4,4)\n",
        "print(a3)\n",
        "a3[1:3,1:3]\n"
      ],
      "execution_count": null,
      "outputs": [
        {
          "output_type": "stream",
          "text": [
            "[ 10  20  30  40  50  60  70  80  90 100 110 120 130 140 150 160]\n",
            "[[ 10  20  30  40]\n",
            " [ 50  60  70  80]\n",
            " [ 90 100 110 120]\n",
            " [130 140 150 160]]\n"
          ],
          "name": "stdout"
        },
        {
          "output_type": "execute_result",
          "data": {
            "text/plain": [
              "array([[ 60,  70],\n",
              "       [100, 110]])"
            ]
          },
          "metadata": {
            "tags": []
          },
          "execution_count": 54
        }
      ]
    },
    {
      "cell_type": "code",
      "metadata": {
        "id": "8VeY6BvT6wt4",
        "colab_type": "code",
        "colab": {
          "base_uri": "https://localhost:8080/",
          "height": 54
        },
        "outputId": "27a641cb-66e1-46b0-9dd1-559fabf60632"
      },
      "source": [
        "a=np.arange(1,11)\n",
        "print(a)\n",
        "a2=np.linspace(10,100,4)#start to end given number of parts equal divide\n",
        "print(a2)"
      ],
      "execution_count": null,
      "outputs": [
        {
          "output_type": "stream",
          "text": [
            "[ 1  2  3  4  5  6  7  8  9 10]\n",
            "[ 10.  40.  70. 100.]\n"
          ],
          "name": "stdout"
        }
      ]
    },
    {
      "cell_type": "code",
      "metadata": {
        "id": "z8b6gAUo8Y1Q",
        "colab_type": "code",
        "colab": {
          "base_uri": "https://localhost:8080/",
          "height": 54
        },
        "outputId": "b2ec7e76-b078-4ea5-c4d8-d1d864e5d10e"
      },
      "source": [
        "a=np.arange(1,11)\n",
        "print(a)\n",
        "aans=np.where(a%2==0)\n",
        "print(aans)"
      ],
      "execution_count": null,
      "outputs": [
        {
          "output_type": "stream",
          "text": [
            "[ 1  2  3  4  5  6  7  8  9 10]\n",
            "(array([1, 3, 5, 7, 9]),)\n"
          ],
          "name": "stdout"
        }
      ]
    },
    {
      "cell_type": "code",
      "metadata": {
        "id": "cQSaYokq-rxT",
        "colab_type": "code",
        "colab": {
          "base_uri": "https://localhost:8080/",
          "height": 73
        },
        "outputId": "fb99f1c0-7ab6-43ef-9861-0ccfe88080dd"
      },
      "source": [
        "a=np.array([[5,10,15,38,12,30,7]])\n",
        "print(a)\n",
        "b=a.mean()\n",
        "print(b)\n",
        "aans=np.where(a>a.mean())\n",
        "print(a[aans])\n"
      ],
      "execution_count": null,
      "outputs": [
        {
          "output_type": "stream",
          "text": [
            "[[ 5 10 15 38 12 30  7]]\n",
            "16.714285714285715\n",
            "[38 30]\n"
          ],
          "name": "stdout"
        }
      ]
    },
    {
      "cell_type": "code",
      "metadata": {
        "id": "4NwHXf4BArK-",
        "colab_type": "code",
        "colab": {}
      },
      "source": [
        "#import random\n",
        "from numpy import random\n"
      ],
      "execution_count": null,
      "outputs": []
    },
    {
      "cell_type": "code",
      "metadata": {
        "id": "mttLGhMQCCnH",
        "colab_type": "code",
        "colab": {
          "base_uri": "https://localhost:8080/",
          "height": 36
        },
        "outputId": "04835554-113b-4084-e03c-7840ea985f41"
      },
      "source": [
        "random.randint(1,20,size=(10))#only for int"
      ],
      "execution_count": null,
      "outputs": [
        {
          "output_type": "execute_result",
          "data": {
            "text/plain": [
              "array([ 6, 17,  7,  5,  5, 15,  1,  8,  3, 11])"
            ]
          },
          "metadata": {
            "tags": []
          },
          "execution_count": 98
        }
      ]
    },
    {
      "cell_type": "code",
      "metadata": {
        "id": "_CCzB2UhClHW",
        "colab_type": "code",
        "colab": {
          "base_uri": "https://localhost:8080/",
          "height": 389
        },
        "outputId": "583feb72-ddea-4da7-8a4d-a395b306ff23"
      },
      "source": [
        "random.rand(100)"
      ],
      "execution_count": null,
      "outputs": [
        {
          "output_type": "execute_result",
          "data": {
            "text/plain": [
              "array([0.52431627, 0.12664793, 0.55996506, 0.56343144, 0.55858796,\n",
              "       0.46408228, 0.38101253, 0.064472  , 0.19369486, 0.92365246,\n",
              "       0.59630687, 0.63303456, 0.32675098, 0.78015269, 0.19775271,\n",
              "       0.14230943, 0.17422319, 0.72958553, 0.39988403, 0.21592479,\n",
              "       0.88863368, 0.48262544, 0.76334875, 0.45546632, 0.28701977,\n",
              "       0.89391425, 0.38303251, 0.3036724 , 0.20235209, 0.55222389,\n",
              "       0.33396128, 0.88066236, 0.65507104, 0.05432474, 0.09731837,\n",
              "       0.97223941, 0.4105122 , 0.57819115, 0.12298658, 0.77313443,\n",
              "       0.33801369, 0.48271039, 0.60141627, 0.62200262, 0.0476901 ,\n",
              "       0.72316239, 0.96131938, 0.59215277, 0.70155919, 0.60964203,\n",
              "       0.07130268, 0.50080798, 0.17170927, 0.66772897, 0.97225515,\n",
              "       0.8995565 , 0.6871803 , 0.4087122 , 0.8796105 , 0.38898778,\n",
              "       0.85926663, 0.15807171, 0.34646686, 0.4246611 , 0.40036439,\n",
              "       0.47349778, 0.47616176, 0.81328729, 0.71291147, 0.18968682,\n",
              "       0.85249197, 0.74435936, 0.37217992, 0.77536124, 0.50978051,\n",
              "       0.41000592, 0.14289036, 0.49247191, 0.28251409, 0.22347981,\n",
              "       0.55748373, 0.8568448 , 0.66842385, 0.61209881, 0.4684377 ,\n",
              "       0.63535724, 0.6397713 , 0.98377311, 0.38647061, 0.30049226,\n",
              "       0.34564458, 0.23596936, 0.07127524, 0.73212348, 0.84636067,\n",
              "       0.44177638, 0.89347791, 0.48741014, 0.27963979, 0.56130868])"
            ]
          },
          "metadata": {
            "tags": []
          },
          "execution_count": 102
        }
      ]
    },
    {
      "cell_type": "code",
      "metadata": {
        "id": "lB99xr24C8Cm",
        "colab_type": "code",
        "colab": {
          "base_uri": "https://localhost:8080/",
          "height": 36
        },
        "outputId": "e1dd6243-3e8c-4786-b465-220e1582dd09"
      },
      "source": [
        "color=random.choice([\"red\",\"silver\",\"white\",\"blue\",\"black\"])\n",
        "print(\"You got:\",color)"
      ],
      "execution_count": null,
      "outputs": [
        {
          "output_type": "stream",
          "text": [
            "You got: red\n"
          ],
          "name": "stdout"
        }
      ]
    },
    {
      "cell_type": "code",
      "metadata": {
        "id": "cRJudzAzEXhG",
        "colab_type": "code",
        "colab": {
          "base_uri": "https://localhost:8080/",
          "height": 110
        },
        "outputId": "5a114d09-04dc-4a5a-dda5-2be5e808106f"
      },
      "source": [
        "from numpy import random\n",
        "a=random.randint(1,100,size=(25))\n",
        "a.reshape(5,5)\n"
      ],
      "execution_count": null,
      "outputs": [
        {
          "output_type": "execute_result",
          "data": {
            "text/plain": [
              "array([[33, 77, 81, 30, 63],\n",
              "       [71, 64,  2, 93,  1],\n",
              "       [48, 72, 35, 75, 35],\n",
              "       [80, 19, 81, 23, 20],\n",
              "       [37, 84, 18, 50, 87]])"
            ]
          },
          "metadata": {
            "tags": []
          },
          "execution_count": 111
        }
      ]
    },
    {
      "cell_type": "code",
      "metadata": {
        "id": "BOQZQqHAFPDY",
        "colab_type": "code",
        "colab": {
          "base_uri": "https://localhost:8080/",
          "height": 36
        },
        "outputId": "c1fddbab-75be-47c0-a34f-3d7f91751398"
      },
      "source": [
        "\n"
      ],
      "execution_count": null,
      "outputs": [
        {
          "output_type": "stream",
          "text": [
            "[3 2]\n"
          ],
          "name": "stdout"
        }
      ]
    }
  ]
}